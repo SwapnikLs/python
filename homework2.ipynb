{
  "nbformat": 4,
  "nbformat_minor": 0,
  "metadata": {
    "colab": {
      "provenance": [],
      "collapsed_sections": []
    },
    "kernelspec": {
      "name": "python3",
      "display_name": "Python 3"
    },
    "language_info": {
      "name": "python"
    }
  },
  "cells": [
    {
      "cell_type": "markdown",
      "metadata": {
        "id": "Qus7cy7B72R2"
      },
      "source": [
        "*   Student name: **[Fill your name here, double-click to edit]**\n",
        "*   Student Panther ID: **[Fill your Panther ID here]** \n",
        "*   Collaborator(s): **[Fill your collaborator(s)' name here]**\n",
        "*   **Notice on Academic Misconduct**: Sharing your codes with other students is also an academic misconduct. If your submission is found unsually similar to that of another student, you will be reported to the SCAI as a potential academic misconduct case, regardless of your reasons. Violations may lead to suspension or expulsion from the university."
      ]
    },
    {
      "cell_type": "markdown",
      "metadata": {
        "id": "Q6bSH8zsrTrk"
      },
      "source": [
        "# CAP5602 Homework 2 (15% total grade)\n",
        "\n",
        "## **Deadline: 10/3/2022 11:59 PM**\n",
        "\n",
        "In this homework, we will train, test, and visualize the K-NN and decision tree models on a simple 1d regression dataset."
      ]
    },
    {
      "cell_type": "markdown",
      "metadata": {
        "id": "go4K2HWl1Vua"
      },
      "source": [
        "## 1. Generate dataset (2% total grade)\n",
        "\n",
        "Write Python code to generate a regression dataset that contains 250 examples. In this dataset, each input $x$ is drawn uniformly random from (0, 2) and the corresponding output is $y = x^3 - 3x^2 + 2x + \\epsilon$, where $\\epsilon$ is Gaussian noise with zero mean and standard deviation 0.04.\n",
        "\n",
        "You don't need to define a function, but your code should create variables that contain all the inputs and outputs. You should also fix a random seed so that your results are reproducible."
      ]
    },
    {
      "cell_type": "code",
      "metadata": {
        "id": "Xr-KInTdwkzW"
      },
      "source": [
        "# Write your code here"
      ],
      "execution_count": null,
      "outputs": []
    },
    {
      "cell_type": "markdown",
      "metadata": {
        "id": "BhNRQLgI5eqq"
      },
      "source": [
        "## 2. Split dataset into train/test sets (1% total grade)\n",
        "\n",
        "Write code to randomly split your dataset above into a train set and a test set. Your train set should contain 150 examples and your test set should contain 100 examples."
      ]
    },
    {
      "cell_type": "code",
      "metadata": {
        "id": "n_00Sv3zmW1z"
      },
      "source": [
        "# Write your code here"
      ],
      "execution_count": null,
      "outputs": []
    },
    {
      "cell_type": "markdown",
      "metadata": {
        "id": "E-aQ5vGo9_0b"
      },
      "source": [
        "## 3. Define a K-NN model (1% total grade)\n",
        "\n",
        "Write code to define a K-NN regression model with K=5 and the neighbors are weighted by the inverse of their distance."
      ]
    },
    {
      "cell_type": "code",
      "metadata": {
        "id": "nbPZnM9ArqgK"
      },
      "source": [
        "# Write your code here"
      ],
      "execution_count": null,
      "outputs": []
    },
    {
      "cell_type": "markdown",
      "metadata": {
        "id": "to_Wxh-i_ytI"
      },
      "source": [
        "## 4. Train your K-NN model (1% total grade)\n",
        "\n",
        "Write code to train your K-NN model on your train set."
      ]
    },
    {
      "cell_type": "code",
      "metadata": {
        "id": "ES0Kuqd_93_e"
      },
      "source": [
        "# Write your code here"
      ],
      "execution_count": null,
      "outputs": []
    },
    {
      "cell_type": "markdown",
      "metadata": {
        "id": "Cd2y0oup_442"
      },
      "source": [
        "## 5. Make prediction with your K-NN model (1% total grade)\n",
        "\n",
        "Write code to predict the outputs of your K-NN model on the test set."
      ]
    },
    {
      "cell_type": "code",
      "metadata": {
        "id": "E3atYmwRrxzJ"
      },
      "source": [
        "# Write your code here"
      ],
      "execution_count": null,
      "outputs": []
    },
    {
      "cell_type": "markdown",
      "metadata": {
        "id": "YGwE6g13AG7E"
      },
      "source": [
        "## 6. Compute the MSE (1% total grade)\n",
        "\n",
        "Write code to compute and print out the mean squared error (MSE) of your K-NN model on the test set"
      ]
    },
    {
      "cell_type": "code",
      "metadata": {
        "id": "cRAdXhjor0As"
      },
      "source": [
        "# Write your code here"
      ],
      "execution_count": null,
      "outputs": []
    },
    {
      "cell_type": "markdown",
      "metadata": {
        "id": "-v0cFZpYAk-H"
      },
      "source": [
        "## 7. Visualize your K-NN model (2% total grade)\n",
        "\n",
        "Write code to plot the predictions of your K-NN model on [0, 2]. You should generate 100 evenly-spaced points on [0, 2], use your K-NN model to predict their outputs, and plot them as a line graph. Your plot must also contain the train set, the test set, and the legend. Play with the settings to make your plot clear and readable."
      ]
    },
    {
      "cell_type": "code",
      "metadata": {
        "id": "ug0oObjPr8YU"
      },
      "source": [
        "# Write your code here"
      ],
      "execution_count": null,
      "outputs": []
    },
    {
      "cell_type": "markdown",
      "metadata": {
        "id": "1cCFNkzEECuL"
      },
      "source": [
        "## 8. Train and test a decision tree model (2% total grade)\n",
        "\n",
        "Write code to train a decision tree model on your train set above and then print out its MSE on the test set. Use sklearn's default setting for your model."
      ]
    },
    {
      "cell_type": "code",
      "metadata": {
        "id": "lpvNZZNYsWeo"
      },
      "source": [
        "# Write your code here"
      ],
      "execution_count": null,
      "outputs": []
    },
    {
      "cell_type": "markdown",
      "metadata": {
        "id": "ZZuxpBSUFCa8"
      },
      "source": [
        "## 9. Visualize your decision tree model (2% total grade)\n",
        "\n",
        "Repeat Question 7 with your trained decision tree model. Your code should generate a plot similar to that of Question 7. **Do not** plot the actual tree with graphviz."
      ]
    },
    {
      "cell_type": "code",
      "metadata": {
        "id": "fUquAl7Lx5v-"
      },
      "source": [
        "# Write your code here"
      ],
      "execution_count": null,
      "outputs": []
    },
    {
      "cell_type": "markdown",
      "metadata": {
        "id": "QyFqeu4cEnKc"
      },
      "source": [
        "## 10. Compare decision tree and K-NN (2% total grade)\n",
        "\n",
        "According to the above results, which model is better on your dataset (K-NN or decision tree)? Why?\n",
        "\n",
        "**Your answer**: Double-click to edit"
      ]
    }
  ]
}